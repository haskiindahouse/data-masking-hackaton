{
 "cells": [
  {
   "cell_type": "markdown",
   "metadata": {},
   "source": [
    "## Загрузка дампа базы данных postgresql"
   ]
  },
  {
   "cell_type": "code",
   "execution_count": 52,
   "metadata": {},
   "outputs": [],
   "source": [
    "import psycopg2\n",
    "import os\n",
    "from dotenv import load_dotenv\n",
    "\n",
    "# Загрузка переменных окружения из .env файла\n",
    "load_dotenv()\n",
    "\n",
    "# Получение значений переменных окружения\n",
    "db_name = os.getenv('POSTGRES_DB')\n",
    "db_user = os.getenv('POSTGRES_USER')\n",
    "db_password = os.getenv('POSTGRES_PASSWORD')\n",
    "db_host = os.getenv('DB_HOST', 'localhost')\n",
    "db_port = os.getenv('DB_PORT', '5432')\n",
    "\n",
    "# Замените на путь к вашему .sql файлу\n",
    "sql_file = '../data/raw/Example_data_filtered.sql'\n",
    "\n",
    "# Подключение к базе данных PostgreSQL\n",
    "conn = psycopg2.connect(\n",
    "    dbname=db_name,\n",
    "    user=db_user,\n",
    "    password=db_password,\n",
    "    host=db_host,\n",
    "    port=db_port,\n",
    ")\n",
    "cursor = conn.cursor()\n",
    "\n",
    "# Чтение содержимого .sql файла\n",
    "with open(sql_file, 'r', encoding='utf-8') as file:\n",
    "    sql_queries = file.read()\n",
    "\n",
    "# Выполнение SQL запросов из файла\n",
    "cursor.execute(sql_queries)\n",
    "conn.commit()\n",
    "\n",
    "cursor.close()\n",
    "conn.close()\n"
   ]
  }
 ],
 "metadata": {
  "kernelspec": {
   "display_name": "masking_data",
   "language": "python",
   "name": "python3"
  },
  "language_info": {
   "codemirror_mode": {
    "name": "ipython",
    "version": 3
   },
   "file_extension": ".py",
   "mimetype": "text/x-python",
   "name": "python",
   "nbconvert_exporter": "python",
   "pygments_lexer": "ipython3",
   "version": "3.1.undefined"
  }
 },
 "nbformat": 4,
 "nbformat_minor": 2
}
